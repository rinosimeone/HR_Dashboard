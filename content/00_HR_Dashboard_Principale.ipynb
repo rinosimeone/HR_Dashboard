{
 "cells": [
  {
   "cell_type": "markdown",
   "id": "dashboard-title",
   "metadata": {},
   "source": [
    "# 📊 HR Analytics Dashboard\n",
    "\n",
    "Benvenuto nel Dashboard HR Analytics! Questo notebook fornisce una panoramica completa delle metriche HR più importanti.\n",
    "\n",
    "## 🎯 Obiettivi del Dashboard\n",
    "- Monitorare le metriche chiave delle risorse umane\n",
    "- Analizzare trend e pattern nei dati HR\n",
    "- Fornire insights per decisioni strategiche\n",
    "\n",
    "---"
   ]
  },
  {
   "cell_type": "code",
   "execution_count": null,
   "id": "setup-imports",
   "metadata": {},
   "outputs": [],
   "source": [
    "# 📦 Import delle librerie necessarie\n",
    "# Per JupyterLite: installazione di seaborn se necessario\n",
    "try:\n",
    "    import seaborn as sns\n",
    "except ImportError:\n",
    "    import micropip\n",
    "    await micropip.install('seaborn')\n",
    "    import seaborn as sns\n",
    "\n",
    "import pandas as pd\n",
    "import numpy as np\n",
    "import matplotlib.pyplot as plt\n",
    "from datetime import datetime, timedelta\n",
    "import warnings\n",
    "warnings.filterwarnings('ignore')\n",
    "\n",
    "# Configurazione per i grafici\n",
    "try:\n",
    "    plt.style.use('seaborn-v0_8')\n",
    "    if 'sns' in locals():\n",
    "        sns.set_palette(\"husl\")\n",
    "except:\n",
    "    plt.style.use('default')\n",
    "\n",
    "print(\"✅ Librerie caricate con successo!\")\n",
    "print(f\"📅 Dashboard aggiornato il: {datetime.now().strftime('%d/%m/%Y %H:%M')}\")"
   ]
  },
  {
   "cell_type": "markdown",
   "id": "data-check",
   "metadata": {},
   "source": [
    "## 🔍 Verifica Disponibilità Dati\n",
    "\n",
    "Prima di procedere con l'analisi, verifichiamo la disponibilità dei file di dati."
   ]
  },
  {
   "cell_type": "code",
   "execution_count": null,
   "id": "check-data-files",
   "metadata": {},
   "outputs": [],
   "source": [
    "# 🔍 Verifica disponibilità dei file di dati\n",
    "import os\n",
    "\n",
    "# Lista dei file di dati attesi\n",
    "data_files = [\n",
    "    'hr_data.csv'\n",
    "]\n",
    "\n",
    "print(\"📁 Verifica file di dati:\")\n",
    "print(\"-\" * 40)\n",
    "\n",
    "available_files = []\n",
    "for file_path in data_files:\n",
    "    if os.path.exists(file_path):\n",
    "        print(f\"✅ {file_path} - Disponibile\")\n",
    "        available_files.append(file_path)\n",
    "    else:\n",
    "        print(f\"❌ {file_path} - Non trovato\")\n",
    "\n",
    "print(f\"\\n📊 File disponibili: {len(available_files)}/{len(data_files)}\")\n",
    "\n",
    "if len(available_files) == 0:\n",
    "    print(\"\\n⚠️  Nessun file di dati trovato. Utilizzeremo dati di esempio.\")\n",
    "else:\n",
    "    print(\"\\n🎉 Dati pronti per l'analisi!\")"
   ]
  },
  {
   "cell_type": "markdown",
   "id": "load-data",
   "metadata": {},
   "source": [
    "## 📊 Caricamento Dati\n",
    "\n",
    "Carichiamo i dati HR per l'analisi."
   ]
  },
  {
   "cell_type": "code",
   "execution_count": null,
   "id": "load-hr-data",
   "metadata": {},
   "outputs": [],
   "source": [
    "# 📊 Caricamento dei dati HR\n",
    "try:\n",
    "    # Prova a caricare il file CSV\n",
    "    df = pd.read_csv('hr_data.csv')\n",
    "    print(f\"✅ Dati caricati con successo!\")\n",
    "    print(f\"📈 Dimensioni dataset: {df.shape[0]} righe, {df.shape[1]} colonne\")\n",
    "    \n",
    "    # Mostra le prime righe\n",
    "    print(\"\\n🔍 Prime 5 righe del dataset:\")\n",
    "    display(df.head())\n",
    "    \n",
    "    # Informazioni sulle colonne\n",
    "    print(\"\\n📋 Informazioni sulle colonne:\")\n",
    "    print(df.info())\n",
    "    \n",
    "except FileNotFoundError:\n",
    "    print(\"❌ File hr_data.csv non trovato\")\n",
    "    print(\"📝 Creazione dati di esempio...\")\n",
    "    \n",
    "    # Crea dati di esempio\n",
    "    np.random.seed(42)\n",
    "    n_employees = 100\n",
    "    \n",
    "    df = pd.DataFrame({\n",
    "        'ID_Dipendente': range(1, n_employees + 1),\n",
    "        'Nome': [f'Dipendente_{i}' for i in range(1, n_employees + 1)],\n",
    "        'Dipartimento': np.random.choice(['IT', 'HR', 'Finance', 'Marketing', 'Operations'], n_employees),\n",
    "        'Posizione': np.random.choice(['Junior', 'Senior', 'Manager', 'Director'], n_employees),\n",
    "        'Stipendio': np.random.normal(50000, 15000, n_employees).astype(int),\n",
    "        'Età': np.random.randint(25, 65, n_employees),\n",
    "        'Anni_Servizio': np.random.randint(1, 20, n_employees),\n",
    "        'Performance_Score': np.random.uniform(1, 5, n_employees).round(2)\n",
    "    })\n",
    "    \n",
    "    print(f\"✅ Dati di esempio creati: {df.shape[0]} dipendenti\")\n",
    "    display(df.head())"
   ]
  }
 ],
 "metadata": {
  "kernelspec": {
   "display_name": "Python 3 (ipykernel)",
   "language": "python",
   "name": "python3"
  },
  "language_info": {
   "codemirror_mode": {
    "name": "ipython",
    "version": 3
   },
   "file_extension": ".py",
   "mimetype": "text/x-python",
   "name": "python",
   "nbconvert_exporter": "python3",
   "version": "3.11.0"
  }
 },
 "nbformat": 4,
 "nbformat_minor": 5
}
